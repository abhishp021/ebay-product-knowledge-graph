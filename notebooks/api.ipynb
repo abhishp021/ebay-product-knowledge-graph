{
 "cells": [
  {
   "cell_type": "code",
   "execution_count": null,
   "id": "3be7f347-36a3-43ec-bece-54ba0eb53d49",
   "metadata": {},
   "outputs": [],
   "source": [
    "from fastapi import FastAPI\n",
    "import networkx as nx\n",
    "import pandas as pd\n",
    "\n",
    "from build_graph import build_knowledge_graph"
   ]
  },
  {
   "cell_type": "code",
   "execution_count": null,
   "id": "4e1e67ac-9ddb-4c18-b43b-74bdba26a452",
   "metadata": {},
   "outputs": [],
   "source": [
    "app = FastAPI(\n",
    "    title=\"eBay Product Knowledge Graph API\",\n",
    "    description=\"Query products and entities from the graph\",\n",
    "    version=\"1.0.0\"\n",
    ")"
   ]
  },
  {
   "cell_type": "code",
   "execution_count": null,
   "id": "afeda339-9ba2-4b91-93e1-32df72a0b95c",
   "metadata": {},
   "outputs": [],
   "source": [
    "# Load graph once\n",
    "G = build_knowledge_graph(\"data/processed/normalized_entities.csv\")\n",
    "\n",
    "@app.get(\"/products/by-entity/\")\n",
    "def get_products_by_entity(entity: str):\n",
    "    entity_node = f\"entity_{entity.lower()}\"\n",
    "    if entity_node not in G:\n",
    "        return {\"error\": \"Entity not found\"}\n",
    "\n",
    "    neighbors = G.neighbors(entity_node)\n",
    "    products = [G.nodes[n][\"title\"] for n in neighbors if G.nodes[n][\"type\"] == \"product\"]\n",
    "    return {\"entity\": entity, \"products\": products}\n",
    "\n",
    "@app.get(\"/entities/by-product/\")\n",
    "def get_entities_by_product(product_id: int):\n",
    "    product_node = f\"product_{product_id}\"\n",
    "    if product_node not in G:\n",
    "        return {\"error\": \"Product not found\"}\n",
    "\n",
    "    neighbors = G.neighbors(product_node)\n",
    "    entities = [G.nodes[n][\"label\"] for n in neighbors if G.nodes[n][\"type\"] == \"entity\"]\n",
    "    return {\"product_id\": product_id, \"entities\": entities}"
   ]
  }
 ],
 "metadata": {
  "kernelspec": {
   "display_name": "Python (venv)",
   "language": "python",
   "name": "myenv"
  },
  "language_info": {
   "codemirror_mode": {
    "name": "ipython",
    "version": 3
   },
   "file_extension": ".py",
   "mimetype": "text/x-python",
   "name": "python",
   "nbconvert_exporter": "python",
   "pygments_lexer": "ipython3",
   "version": "3.13.5"
  }
 },
 "nbformat": 4,
 "nbformat_minor": 5
}
