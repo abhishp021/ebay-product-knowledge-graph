{
 "cells": [
  {
   "cell_type": "code",
   "execution_count": 1,
   "id": "1c080fa2-f9a2-4f34-98ba-8f3e5ca5e439",
   "metadata": {},
   "outputs": [],
   "source": [
    "import spacy\n",
    "import pandas as pd\n",
    "from tqdm import tqdm"
   ]
  },
  {
   "cell_type": "code",
   "execution_count": 2,
   "id": "ab2180dd-6a01-41d7-ae02-37c7dad7f614",
   "metadata": {},
   "outputs": [],
   "source": [
    "nlp = spacy.load('en_core_web_sm')"
   ]
  },
  {
   "cell_type": "code",
   "execution_count": 33,
   "id": "0945f13a-5343-4d0f-ae9c-fa8b4dc3d1f4",
   "metadata": {},
   "outputs": [],
   "source": [
    "def extract_named_entities(text: str):\n",
    "    doc = nlp(text)\n",
    "    print(text, '\\n', doc, ': ---type---', type(doc))\n",
    "    for ent in doc.ents:\n",
    "        print('\\t', ent.text, ent.label_)\n",
    "    return [(ent.text, ent.label_) for ent in doc.ents]"
   ]
  },
  {
   "cell_type": "code",
   "execution_count": 4,
   "id": "5d786e0b-31c0-439d-9d1e-d21f47f51002",
   "metadata": {},
   "outputs": [
    {
     "data": {
      "text/plain": [
       "'/Users/richapandey/Abhishek/projects/ebay-product-knowledge-graph'"
      ]
     },
     "execution_count": 4,
     "metadata": {},
     "output_type": "execute_result"
    }
   ],
   "source": [
    "import os\n",
    "os.getcwd()"
   ]
  },
  {
   "cell_type": "code",
   "execution_count": 8,
   "id": "d10ab1e7-35f2-45c7-b509-bdb1979141d8",
   "metadata": {},
   "outputs": [],
   "source": [
    "input_csv=\"/Users/richapandey/Abhishek/projects/ebay-product-knowledge-graph/data/raw/ebay_listings_sample.csv\"\n",
    "output_csv=\"/Users/richapandey/Abhishek/projects/ebay-product-knowledge-graph/data/processed/entities.csv\"\n",
    "# normalize_entities_csv(input_csv, output_csv)"
   ]
  },
  {
   "cell_type": "code",
   "execution_count": 25,
   "id": "8998b24c-7f14-4d08-869e-49f7b9ce0623",
   "metadata": {},
   "outputs": [
    {
     "data": {
      "text/html": [
       "<div>\n",
       "<style scoped>\n",
       "    .dataframe tbody tr th:only-of-type {\n",
       "        vertical-align: middle;\n",
       "    }\n",
       "\n",
       "    .dataframe tbody tr th {\n",
       "        vertical-align: top;\n",
       "    }\n",
       "\n",
       "    .dataframe thead th {\n",
       "        text-align: right;\n",
       "    }\n",
       "</style>\n",
       "<table border=\"1\" class=\"dataframe\">\n",
       "  <thead>\n",
       "    <tr style=\"text-align: right;\">\n",
       "      <th></th>\n",
       "      <th>id</th>\n",
       "      <th>title</th>\n",
       "      <th>description</th>\n",
       "    </tr>\n",
       "  </thead>\n",
       "  <tbody>\n",
       "    <tr>\n",
       "      <th>0</th>\n",
       "      <td>1</td>\n",
       "      <td>Apple iPhone 13 Pro Max</td>\n",
       "      <td>Brand new Apple iPhone 13 Pro Max with 256GB s...</td>\n",
       "    </tr>\n",
       "    <tr>\n",
       "      <th>1</th>\n",
       "      <td>2</td>\n",
       "      <td>Samsung Galaxy S21 Ultra</td>\n",
       "      <td>Samsung Galaxy S21 Ultra smartphone with 128GB...</td>\n",
       "    </tr>\n",
       "    <tr>\n",
       "      <th>2</th>\n",
       "      <td>3</td>\n",
       "      <td>Nike Air Zoom Pegasus 39</td>\n",
       "      <td>Running shoes for men, size 10, black and whit...</td>\n",
       "    </tr>\n",
       "    <tr>\n",
       "      <th>3</th>\n",
       "      <td>4</td>\n",
       "      <td>Sony WH-1000XM5 Headphones</td>\n",
       "      <td>Noise-canceling over-ear headphones by Sony. W...</td>\n",
       "    </tr>\n",
       "    <tr>\n",
       "      <th>4</th>\n",
       "      <td>5</td>\n",
       "      <td>Dell XPS 13 Laptop</td>\n",
       "      <td>Dell XPS 13 with Intel i7, 16GB RAM, 512GB SSD...</td>\n",
       "    </tr>\n",
       "  </tbody>\n",
       "</table>\n",
       "</div>"
      ],
      "text/plain": [
       "   id                       title  \\\n",
       "0   1     Apple iPhone 13 Pro Max   \n",
       "1   2    Samsung Galaxy S21 Ultra   \n",
       "2   3    Nike Air Zoom Pegasus 39   \n",
       "3   4  Sony WH-1000XM5 Headphones   \n",
       "4   5          Dell XPS 13 Laptop   \n",
       "\n",
       "                                         description  \n",
       "0  Brand new Apple iPhone 13 Pro Max with 256GB s...  \n",
       "1  Samsung Galaxy S21 Ultra smartphone with 128GB...  \n",
       "2  Running shoes for men, size 10, black and whit...  \n",
       "3  Noise-canceling over-ear headphones by Sony. W...  \n",
       "4  Dell XPS 13 with Intel i7, 16GB RAM, 512GB SSD...  "
      ]
     },
     "execution_count": 25,
     "metadata": {},
     "output_type": "execute_result"
    }
   ],
   "source": [
    "df = pd.read_csv(input_csv)\n",
    "df"
   ]
  },
  {
   "cell_type": "code",
   "execution_count": 34,
   "id": "f4c53beb-c24a-499c-ae0c-b12546485b6b",
   "metadata": {},
   "outputs": [
    {
     "name": "stderr",
     "output_type": "stream",
     "text": [
      "100%|█████████████████████████████████████████████| 5/5 [00:00<00:00, 91.33it/s]"
     ]
    },
    {
     "name": "stdout",
     "output_type": "stream",
     "text": [
      "Apple iPhone 13 Pro Max. Brand new Apple iPhone 13 Pro Max with 256GB storage. Graphite color. \n",
      " Apple iPhone 13 Pro Max. Brand new Apple iPhone 13 Pro Max with 256GB storage. Graphite color. : ---type--- <class 'spacy.tokens.doc.Doc'>\n",
      "\t Apple ORG\n",
      "\t 13 CARDINAL\n",
      "\t Apple ORG\n",
      "\t iPhone 13 PRODUCT\n",
      "\t 256 CARDINAL\n",
      "Samsung Galaxy S21 Ultra. Samsung Galaxy S21 Ultra smartphone with 128GB, Phantom Black, 108MP camera. \n",
      " Samsung Galaxy S21 Ultra. Samsung Galaxy S21 Ultra smartphone with 128GB, Phantom Black, 108MP camera. : ---type--- <class 'spacy.tokens.doc.Doc'>\n",
      "\t Samsung Galaxy S21 Ultra ORG\n",
      "\t Samsung Galaxy S21 Ultra PERSON\n",
      "\t 128 CARDINAL\n",
      "\t GB GPE\n",
      "\t Phantom Black GPE\n",
      "\t 108MP DATE\n",
      "Nike Air Zoom Pegasus 39. Running shoes for men, size 10, black and white, lightweight and breathable. \n",
      " Nike Air Zoom Pegasus 39. Running shoes for men, size 10, black and white, lightweight and breathable. : ---type--- <class 'spacy.tokens.doc.Doc'>\n",
      "\t Nike Air Zoom Pegasus ORG\n",
      "\t 39 CARDINAL\n",
      "\t 10 CARDINAL\n",
      "Sony WH-1000XM5 Headphones. Noise-canceling over-ear headphones by Sony. Wireless, silver color. \n",
      " Sony WH-1000XM5 Headphones. Noise-canceling over-ear headphones by Sony. Wireless, silver color. : ---type--- <class 'spacy.tokens.doc.Doc'>\n",
      "\t Sony ORG\n",
      "\t Sony ORG\n",
      "\t Wireless ORG\n",
      "Dell XPS 13 Laptop. Dell XPS 13 with Intel i7, 16GB RAM, 512GB SSD, and Windows 11 Home. \n",
      " Dell XPS 13 Laptop. Dell XPS 13 with Intel i7, 16GB RAM, 512GB SSD, and Windows 11 Home. : ---type--- <class 'spacy.tokens.doc.Doc'>\n",
      "\t Dell XPS 13 Laptop ORG\n",
      "\t Dell XPS 13 ORG\n",
      "\t Intel ORG\n",
      "\t 16 CARDINAL\n",
      "\t RAM ORG\n",
      "\t 512 CARDINAL\n",
      "\t Windows 11 Home LAW\n"
     ]
    },
    {
     "name": "stderr",
     "output_type": "stream",
     "text": [
      "\n"
     ]
    }
   ],
   "source": [
    "tqdm.pandas()\n",
    "# for i in range(8):\n",
    "#     df = pd.concat([df,df])\n",
    "\n",
    "df.reset_index(drop=True, inplace = True) \n",
    "df['full_text'] = df['title'].fillna(\"\") + \". \" + df['description'].fillna('')\n",
    "df['entities'] = df['full_text'].progress_apply(extract_named_entities)\n",
    "# df"
   ]
  },
  {
   "cell_type": "code",
   "execution_count": null,
   "id": "93ac4894-4374-467e-9a1d-f015573cc30f",
   "metadata": {},
   "outputs": [],
   "source": [
    "def process_listings(csv_path: str, output_path: str):\n",
    "    df = pd.read_csv(csv_path)\n",
    "    tqdm.pandas()\n",
    "\n",
    "    df[\"full_text\"] = df[\"title\"].fillna(\"\") + \". \" + df[\"description\"].fillna(\"\")\n",
    "    df[\"entities\"] = df[\"full_text\"].progress_apply(extract_named_entities)\n",
    "\n",
    "    df[[\"id\", \"title\", \"entities\"]].to_csv(output_path, index=False)\n",
    "    print(f\"✅ Saved extracted entities to {output_path}\")"
   ]
  }
 ],
 "metadata": {
  "kernelspec": {
   "display_name": "Python (venv)",
   "language": "python",
   "name": "myenv"
  },
  "language_info": {
   "codemirror_mode": {
    "name": "ipython",
    "version": 3
   },
   "file_extension": ".py",
   "mimetype": "text/x-python",
   "name": "python",
   "nbconvert_exporter": "python",
   "pygments_lexer": "ipython3",
   "version": "3.13.5"
  }
 },
 "nbformat": 4,
 "nbformat_minor": 5
}
