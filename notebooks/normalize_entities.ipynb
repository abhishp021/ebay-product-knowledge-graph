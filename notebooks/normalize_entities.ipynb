{
 "cells": [
  {
   "cell_type": "code",
   "execution_count": 1,
   "id": "822232ee-a1c5-49bc-a84f-6801f2a54f77",
   "metadata": {},
   "outputs": [],
   "source": [
    "import pandas as pd\n",
    "import re"
   ]
  },
  {
   "cell_type": "code",
   "execution_count": 22,
   "id": "b8d97a37-c13a-44d6-8099-b5ac975830e1",
   "metadata": {},
   "outputs": [],
   "source": [
    "def normalize_entity(entity):\n",
    "    # print(f'Entity: {entity}')\n",
    "    text, label = entity\n",
    "    # print(f'Text: {text}, Label: {label}')\n",
    "    text = text.lower().strip()\n",
    "\n",
    "    text = re.sub(r\"[^\\w\\s]\", \"\", text)\n",
    "\n",
    "    if label in [\"ORG\", \"PRODUCT\"]:\n",
    "        text = text.title()\n",
    "        # print(f\"Since label is from org or product new text: {text}\")\n",
    "\n",
    "    if label in ['ORG', 'PRODUCT', 'QUANTITY', 'GPE', 'CARDINAL']:\n",
    "        return text\n",
    "        \n",
    "    return None"
   ]
  },
  {
   "cell_type": "code",
   "execution_count": 4,
   "id": "fe6ead52-2d43-4a94-8fa8-01fd98c27881",
   "metadata": {},
   "outputs": [],
   "source": [
    "def normalize_entities_csv(input_csv, output_csv):\n",
    "    df = pd.read_csv(input_csv)\n",
    "    df[\"normalized_entities\"] = df[\"entities\"].apply(eval).apply(lambda ents: list(set(filter(None, [normalize_entity(e) for e in ents]))))\n",
    "    print(df)\n",
    "\n",
    "    # df[[\"id\", \"title\", \"normalize_entities\"]].to_csv(output_path, index=False)\n",
    "\n",
    "    print(f\"Normalized entities saved to {output_csv}\")"
   ]
  },
  {
   "cell_type": "code",
   "execution_count": 9,
   "id": "abd38855-7e96-4e23-a8fe-aaf60bfce78d",
   "metadata": {},
   "outputs": [
    {
     "data": {
      "text/plain": [
       "'/Users/richapandey/Abhishek/projects/ebay-product-knowledge-graph/notebooks'"
      ]
     },
     "execution_count": 9,
     "metadata": {},
     "output_type": "execute_result"
    }
   ],
   "source": [
    "import os\n",
    "os.getcwd()"
   ]
  },
  {
   "cell_type": "code",
   "execution_count": 6,
   "id": "5bc2bda9-40c9-4dce-a591-0a56460dac7e",
   "metadata": {
    "scrolled": true
   },
   "outputs": [],
   "source": [
    "input_csv_raw=\"/Users/richapandey/Abhishek/projects/ebay-product-knowledge-graph/data/raw/ebay_listings_sample.csv\"\n",
    "input_csv=\"/Users/richapandey/Abhishek/projects/ebay-product-knowledge-graph/data/processed/entities.csv\"\n",
    "output_csv=\"/Users/richapandey/Abhishek/projects/ebay-product-knowledge-graph/data/processed/normalized_entities.csv\""
   ]
  },
  {
   "cell_type": "code",
   "execution_count": 7,
   "id": "b171b1e7-d4bc-433e-82e2-615504e1dfe3",
   "metadata": {},
   "outputs": [
    {
     "data": {
      "text/html": [
       "<div>\n",
       "<style scoped>\n",
       "    .dataframe tbody tr th:only-of-type {\n",
       "        vertical-align: middle;\n",
       "    }\n",
       "\n",
       "    .dataframe tbody tr th {\n",
       "        vertical-align: top;\n",
       "    }\n",
       "\n",
       "    .dataframe thead th {\n",
       "        text-align: right;\n",
       "    }\n",
       "</style>\n",
       "<table border=\"1\" class=\"dataframe\">\n",
       "  <thead>\n",
       "    <tr style=\"text-align: right;\">\n",
       "      <th></th>\n",
       "      <th>id</th>\n",
       "      <th>title</th>\n",
       "      <th>entities</th>\n",
       "    </tr>\n",
       "  </thead>\n",
       "  <tbody>\n",
       "    <tr>\n",
       "      <th>0</th>\n",
       "      <td>1</td>\n",
       "      <td>Apple iPhone 13 Pro Max</td>\n",
       "      <td>[('Apple', 'ORG'), ('13', 'CARDINAL'), ('Apple...</td>\n",
       "    </tr>\n",
       "    <tr>\n",
       "      <th>1</th>\n",
       "      <td>2</td>\n",
       "      <td>Samsung Galaxy S21 Ultra</td>\n",
       "      <td>[('Samsung Galaxy S21 Ultra', 'ORG'), ('Samsun...</td>\n",
       "    </tr>\n",
       "    <tr>\n",
       "      <th>2</th>\n",
       "      <td>3</td>\n",
       "      <td>Nike Air Zoom Pegasus 39</td>\n",
       "      <td>[('Nike Air Zoom Pegasus', 'ORG'), ('39', 'CAR...</td>\n",
       "    </tr>\n",
       "    <tr>\n",
       "      <th>3</th>\n",
       "      <td>4</td>\n",
       "      <td>Sony WH-1000XM5 Headphones</td>\n",
       "      <td>[('Sony', 'ORG'), ('Sony', 'ORG'), ('Wireless'...</td>\n",
       "    </tr>\n",
       "    <tr>\n",
       "      <th>4</th>\n",
       "      <td>5</td>\n",
       "      <td>Dell XPS 13 Laptop</td>\n",
       "      <td>[('Dell XPS 13 Laptop', 'ORG'), ('Dell XPS 13'...</td>\n",
       "    </tr>\n",
       "  </tbody>\n",
       "</table>\n",
       "</div>"
      ],
      "text/plain": [
       "   id                       title  \\\n",
       "0   1     Apple iPhone 13 Pro Max   \n",
       "1   2    Samsung Galaxy S21 Ultra   \n",
       "2   3    Nike Air Zoom Pegasus 39   \n",
       "3   4  Sony WH-1000XM5 Headphones   \n",
       "4   5          Dell XPS 13 Laptop   \n",
       "\n",
       "                                            entities  \n",
       "0  [('Apple', 'ORG'), ('13', 'CARDINAL'), ('Apple...  \n",
       "1  [('Samsung Galaxy S21 Ultra', 'ORG'), ('Samsun...  \n",
       "2  [('Nike Air Zoom Pegasus', 'ORG'), ('39', 'CAR...  \n",
       "3  [('Sony', 'ORG'), ('Sony', 'ORG'), ('Wireless'...  \n",
       "4  [('Dell XPS 13 Laptop', 'ORG'), ('Dell XPS 13'...  "
      ]
     },
     "execution_count": 7,
     "metadata": {},
     "output_type": "execute_result"
    }
   ],
   "source": [
    "df = pd.read_csv(input_csv)\n",
    "df"
   ]
  },
  {
   "cell_type": "code",
   "execution_count": 24,
   "id": "eaca7046-e44e-48fb-ab55-e62ae22d9941",
   "metadata": {},
   "outputs": [
    {
     "name": "stdout",
     "output_type": "stream",
     "text": [
      "[('Apple', 'ORG'), ('13', 'CARDINAL'), ('Apple', 'ORG'), ('iPhone 13', 'PRODUCT'), ('256', 'CARDINAL')]\n",
      "['Apple', '13', 'Apple', 'Iphone 13', '256']\n",
      "<filter object at 0x11469e890>\n",
      "[('Samsung Galaxy S21 Ultra', 'ORG'), ('Samsung Galaxy S21 Ultra', 'PERSON'), ('128', 'CARDINAL'), ('GB', 'GPE'), ('Phantom Black', 'GPE'), ('108MP', 'DATE')]\n",
      "['Samsung Galaxy S21 Ultra', None, '128', 'gb', 'phantom black', None]\n",
      "<filter object at 0x11469ea70>\n",
      "[('Nike Air Zoom Pegasus', 'ORG'), ('39', 'CARDINAL'), ('10', 'CARDINAL')]\n",
      "['Nike Air Zoom Pegasus', '39', '10']\n",
      "<filter object at 0x11469e890>\n",
      "[('Sony', 'ORG'), ('Sony', 'ORG'), ('Wireless', 'ORG')]\n",
      "['Sony', 'Sony', 'Wireless']\n",
      "<filter object at 0x107c94f70>\n",
      "[('Dell XPS 13 Laptop', 'ORG'), ('Dell XPS 13', 'ORG'), ('Intel', 'ORG'), ('16', 'CARDINAL'), ('RAM', 'ORG'), ('512', 'CARDINAL'), ('Windows 11 Home', 'LAW')]\n",
      "['Dell Xps 13 Laptop', 'Dell Xps 13', 'Intel', '16', 'Ram', '512', None]\n",
      "<filter object at 0x11469e890>\n"
     ]
    }
   ],
   "source": [
    "for entities in df['entities'].apply(eval):\n",
    "    print(entities)\n",
    "    # for ent in entities:\n",
    "    #     print(ent)\n",
    "    #     print('\\t', ent, f\"normalised: {normalize_entity(ent)}\")\n",
    "\n",
    "    print([normalize_entity(e) for e in entities])\n",
    "    print(filter(None, [normalize_entity(e) for e in entities]))"
   ]
  },
  {
   "cell_type": "code",
   "execution_count": null,
   "id": "4e7815a1-aea9-44ac-b3c2-ba7892042c50",
   "metadata": {},
   "outputs": [],
   "source": [
    "df[\"normalized_entities\"] = df[\"entities\"].apply(eval).apply(lambda ents: list(set(filter(None, [normalize_entity(e) for e in ents]))))"
   ]
  },
  {
   "cell_type": "code",
   "execution_count": null,
   "id": "78ccd8e7-7077-44ea-be9a-fe8a69a3baf7",
   "metadata": {},
   "outputs": [],
   "source": [
    "df['entities'].apply(eval).apply(lambda ents: list"
   ]
  }
 ],
 "metadata": {
  "kernelspec": {
   "display_name": "Python (venv)",
   "language": "python",
   "name": "myenv"
  },
  "language_info": {
   "codemirror_mode": {
    "name": "ipython",
    "version": 3
   },
   "file_extension": ".py",
   "mimetype": "text/x-python",
   "name": "python",
   "nbconvert_exporter": "python",
   "pygments_lexer": "ipython3",
   "version": "3.13.5"
  }
 },
 "nbformat": 4,
 "nbformat_minor": 5
}
